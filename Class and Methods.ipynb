{
 "cells": [
  {
   "cell_type": "markdown",
   "metadata": {},
   "source": [
    "## Object Oriented Programming Concepts --> OOPS"
   ]
  },
  {
   "cell_type": "markdown",
   "metadata": {},
   "source": [
    "* We have learned few things about data types in python\n",
    "1. strings\n",
    "2. integers\n",
    "3. float\n",
    "4. list\n",
    "5. dictionary\n",
    "\n",
    "Example:\n",
    "\n",
    "str1='tease-me!'\n",
    "\n",
    "container is created which is a copy of a class called string\n",
    "\n",
    "Dog => what can the object do? can it bark? yes\n",
    "       does it have a tail? yes\n",
    "       can it bite ? yes\n",
    "       certain hair color/type? \n",
    "       \n",
    "       Identified it as a dog: then what do we do?\n",
    "       it can do few things for us such as be a pet, be a housekeeper, friend etc...\n",
    "       \n",
    "       \n",
    "Data of the object and what are the things it is capable of doing.\n",
    "1. information about the object.\n",
    "2. things that the object can do.\n",
    "\n",
    "Example1:\n",
    "Trying to identify human being --> shape of body, stand on two legs, brain size etc..\n",
    "                                   can it use hands, can breathe, can move \n",
    "Male --> Human being --> have all the characteristics of Human being + some more, can have moustache\n",
    "Female --> Human being --> hace all the properties of human being + some more --> will not have moustache\n",
    "\n",
    "Child: \n",
    "\n",
    "\n"
   ]
  },
  {
   "cell_type": "markdown",
   "metadata": {},
   "source": [
    "Every syntax or programming context that is used is an object\n",
    "\n",
    "string --> it will be a text type of information, and add string, delete string, edit, print out string etc...\n",
    "list --> collection of elements, iterate on list, add list, delete list, access list by index etc..."
   ]
  },
  {
   "cell_type": "markdown",
   "metadata": {},
   "source": []
  },
  {
   "cell_type": "code",
   "execution_count": 5,
   "metadata": {},
   "outputs": [
    {
     "name": "stdout",
     "output_type": "stream",
     "text": [
      "tease-me!\n",
      "<class 'str'>\n",
      "['__add__', '__class__', '__contains__', '__delattr__', '__dir__', '__doc__', '__eq__', '__format__', '__ge__', '__getattribute__', '__getitem__', '__getnewargs__', '__gt__', '__hash__', '__init__', '__init_subclass__', '__iter__', '__le__', '__len__', '__lt__', '__mod__', '__mul__', '__ne__', '__new__', '__reduce__', '__reduce_ex__', '__repr__', '__rmod__', '__rmul__', '__setattr__', '__sizeof__', '__str__', '__subclasshook__', 'capitalize', 'casefold', 'center', 'count', 'encode', 'endswith', 'expandtabs', 'find', 'format', 'format_map', 'index', 'isalnum', 'isalpha', 'isascii', 'isdecimal', 'isdigit', 'isidentifier', 'islower', 'isnumeric', 'isprintable', 'isspace', 'istitle', 'isupper', 'join', 'ljust', 'lower', 'lstrip', 'maketrans', 'partition', 'replace', 'rfind', 'rindex', 'rjust', 'rpartition', 'rsplit', 'rstrip', 'split', 'splitlines', 'startswith', 'strip', 'swapcase', 'title', 'translate', 'upper', 'zfill']\n"
     ]
    }
   ],
   "source": [
    "#define a variable of string type\n",
    "str1='tease-me!'\n",
    "print(str1)\n",
    "\n",
    "#print the type of variable\n",
    "print(type(str1))\n",
    "\n",
    "#print the methods available in the variable object\n",
    "print(dir(str1))"
   ]
  },
  {
   "cell_type": "markdown",
   "metadata": {},
   "source": [
    "Things to remember:\n",
    "1. Class : is the name of the basic definition of a data type\n",
    "2. it has 2 sections: attribute and method\n",
    "3. instance of a class is called object\n",
    "4. Every syntax in Python is an object\n"
   ]
  },
  {
   "cell_type": "code",
   "execution_count": 15,
   "metadata": {},
   "outputs": [
    {
     "name": "stdout",
     "output_type": "stream",
     "text": [
      "me likey,like\n",
      "['__class__', '__delattr__', '__dict__', '__dir__', '__doc__', '__eq__', '__format__', '__ge__', '__getattribute__', '__gt__', '__hash__', '__init__', '__init_subclass__', '__le__', '__lt__', '__module__', '__ne__', '__new__', '__reduce__', '__reduce_ex__', '__repr__', '__setattr__', '__sizeof__', '__str__', '__subclasshook__', '__weakref__', 'city', 'name', 'playfootball']\n",
      "vedant\n",
      "me likey,like\n",
      "Nikos\n"
     ]
    }
   ],
   "source": [
    "class cl_name:\n",
    "    name='pranav'\n",
    "    city='pleasanton'\n",
    "    \n",
    "    def playfootball(self):\n",
    "        print('me likey,like')\n",
    "\n",
    "# declare the class object\n",
    "str1=cl_name() \n",
    "# apply data (attribute)\n",
    "str1.name='vedant'\n",
    "# use the method(function)\n",
    "str1.playfootball()\n",
    "\n",
    "print(dir(str1))\n",
    "print(str1.name)\n",
    "\n",
    "\n",
    "str2= cl_name() \n",
    "str1.name='Nikos'\n",
    "# use the method(function)\n",
    "str1.playfootball()\n",
    "print(str1.name)"
   ]
  },
  {
   "cell_type": "code",
   "execution_count": null,
   "metadata": {},
   "outputs": [],
   "source": []
  },
  {
   "cell_type": "markdown",
   "metadata": {},
   "source": [
    "2 steps to use classes\n",
    "1. declare an object for the class\n",
    "2. apply data and method to the object\n",
    "\n",
    "to use class object methods/attributes we use . notation"
   ]
  },
  {
   "cell_type": "code",
   "execution_count": null,
   "metadata": {},
   "outputs": [],
   "source": []
  }
 ],
 "metadata": {
  "kernelspec": {
   "display_name": "Python 3",
   "language": "python",
   "name": "python3"
  },
  "language_info": {
   "codemirror_mode": {
    "name": "ipython",
    "version": 3
   },
   "file_extension": ".py",
   "mimetype": "text/x-python",
   "name": "python",
   "nbconvert_exporter": "python",
   "pygments_lexer": "ipython3",
   "version": "3.7.6"
  }
 },
 "nbformat": 4,
 "nbformat_minor": 4
}
