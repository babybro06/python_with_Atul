{
 "cells": [
  {
   "cell_type": "markdown",
   "metadata": {},
   "source": [
    "# First Python Session \n",
    "## Date: 30.08.2020\n",
    "### Time: 19:00"
   ]
  },
  {
   "cell_type": "markdown",
   "metadata": {},
   "source": [
    "**Topics for the day**\n",
    "* Comment\n",
    "* Print\n",
    "* Variable (Literal,int,float)\n",
    "* Data structures: list, dictionary\n",
    "* Operators\n",
    "* Conditional\n",
    "* Loop"
   ]
  },
  {
   "cell_type": "markdown",
   "metadata": {},
   "source": [
    "## Action Items from today:\n",
    "1. Download Anaconda\n",
    "2. Create Github account"
   ]
  },
  {
   "cell_type": "code",
   "execution_count": 1,
   "metadata": {},
   "outputs": [
    {
     "data": {
      "text/plain": [
       "' is a block or multipline \\ncomment '"
      ]
     },
     "execution_count": 1,
     "metadata": {},
     "output_type": "execute_result"
    }
   ],
   "source": [
    "# Comments in Python\n",
    "# line starting with # is a comment\n",
    "# adding # on a line, the following content will be comment\n",
    "''' is a block or multipline \n",
    "comment '''"
   ]
  },
  {
   "cell_type": "code",
   "execution_count": 2,
   "metadata": {},
   "outputs": [
    {
     "name": "stdout",
     "output_type": "stream",
     "text": [
      "This is ME!\n"
     ]
    }
   ],
   "source": [
    "# Print command in Python\n",
    "print('This is ME!')  #print without a variable"
   ]
  },
  {
   "cell_type": "code",
   "execution_count": 3,
   "metadata": {},
   "outputs": [
    {
     "name": "stdout",
     "output_type": "stream",
     "text": [
      "This is Me!\n"
     ]
    }
   ],
   "source": [
    "var1='Me!'\n",
    "print('This is',var1) #this is an example of printing variable"
   ]
  },
  {
   "cell_type": "markdown",
   "metadata": {},
   "source": [
    "## Variables\n",
    "1. literal variable --> characters and strings\n",
    "    a. literal variables are placed between ' ' or \" \"\n",
    "2. integer variable --> var=5\n",
    "3. float variable   --> var=3.1"
   ]
  },
  {
   "cell_type": "code",
   "execution_count": 4,
   "metadata": {},
   "outputs": [
    {
     "name": "stdout",
     "output_type": "stream",
     "text": [
      "Hello World\n"
     ]
    }
   ],
   "source": [
    "var1='World'\n",
    "print('Hello',var1)"
   ]
  },
  {
   "cell_type": "code",
   "execution_count": 10,
   "metadata": {},
   "outputs": [
    {
     "name": "stdout",
     "output_type": "stream",
     "text": [
      "5\n",
      "5.0\n",
      "<class 'float'>\n",
      "<class 'int'>\n",
      "<class 'str'>\n"
     ]
    }
   ],
   "source": [
    "var2=1\n",
    "var3=4\n",
    "print(var2+var3)  #integer\n",
    "\n",
    "var2=1.\n",
    "var3=4 \n",
    "print(var2+var3)   #decimal operation or float\n",
    "#fidn type of variable\n",
    "print(type(var2))\n",
    "print(type(var3))\n",
    "print(type(var1))"
   ]
  },
  {
   "cell_type": "code",
   "execution_count": 12,
   "metadata": {},
   "outputs": [
    {
     "name": "stdout",
     "output_type": "stream",
     "text": [
      "Vedant's Hat\n",
      "Vedant's Hat\n"
     ]
    }
   ],
   "source": [
    "#Quiz\n",
    "#print('Vedant's Hat') #error\n",
    "print(\"Vedant's Hat\")\n",
    "print('Vedant\\'s Hat')"
   ]
  },
  {
   "cell_type": "markdown",
   "metadata": {},
   "source": [
    "# List and Dictionary\n",
    "## List\n",
    "var1=1\n",
    "number_of_apples=[1,2,3,4]  #Collection of elements which are similar\n",
    "The list can have variables of different type as well\n",
    "list2=[1,2.0,'cat','horse']\n",
    "\n",
    "## Dictionary\n",
    "Atul =1\n",
    "Ranvijay=2\n",
    "Vedant =3\n",
    "Nikos =4\n",
    "\n",
    "#collection with key and value pair\n",
    "number_of_apples_who={'Atul':1, 'Ranvijay':2,'Vedant':3,'Nikos':4}\n",
    "\n",
    "## Access elements of list\n",
    "\n",
    "length_of_number_of_apples=len(number_of_apples)\n",
    "print(number_of_apples[0]) #first element\n",
    "print(number_of_apples[1]) #second element\n",
    "\n",
    "print('LL',number_of_apples[-1]) #last element --> python speciality\n",
    "print('LL1',number_of_apples(len(number_of_apples)-1)  --> print element at length of list -1 place\n"
   ]
  },
  {
   "cell_type": "code",
   "execution_count": 23,
   "metadata": {},
   "outputs": [
    {
     "name": "stdout",
     "output_type": "stream",
     "text": [
      "4\n",
      "1\n",
      "2\n",
      "3\n",
      "4\n",
      "LL 4\n",
      "3\n",
      "LL1 4\n"
     ]
    }
   ],
   "source": [
    "number_of_apples=[1,2,3,4]\n",
    "print(len(number_of_apples))\n",
    "print(number_of_apples[0]) #first element\n",
    "print(number_of_apples[1]) #second element\n",
    "print(number_of_apples[2]) #second element\n",
    "print(number_of_apples[3]) #second element\n",
    "\n",
    "print('LL',number_of_apples[-1]) #last element --> python speciality\n",
    "print(number_of_apples[-2])\n",
    "print('LL1',number_of_apples[len(number_of_apples)-1])  #--> print element at length of list -1 place"
   ]
  },
  {
   "cell_type": "markdown",
   "metadata": {},
   "source": [
    "# Operators\n",
    "* Arithmetic operators\n",
    "    * +,-,*,/, % (modulo)\n",
    "* Logical operators\n"
   ]
  },
  {
   "cell_type": "code",
   "execution_count": 27,
   "metadata": {},
   "outputs": [
    {
     "name": "stdout",
     "output_type": "stream",
     "text": [
      "Add:  48\n",
      "Sub:  -2\n",
      "Mult:  575\n",
      "Div:  0.92\n",
      "Modulo:  1\n"
     ]
    }
   ],
   "source": [
    "#Arithmetic operations\n",
    "var1=23\n",
    "var2=25\n",
    "print('Add: ',var1+var2)\n",
    "print('Sub: ',var1-var2)\n",
    "print('Mult: ',var1*var2)\n",
    "print('Div: ',var1/var2)\n",
    "\n",
    "\n",
    "var1=5\n",
    "var2=2\n",
    "print('Modulo: ', var1%var2)\n"
   ]
  },
  {
   "cell_type": "code",
   "execution_count": null,
   "metadata": {},
   "outputs": [],
   "source": [
    "## Write a program to find even or odd"
   ]
  },
  {
   "cell_type": "code",
   "execution_count": 29,
   "metadata": {},
   "outputs": [
    {
     "name": "stdout",
     "output_type": "stream",
     "text": [
      "Even\n"
     ]
    }
   ],
   "source": [
    "var1=4\n",
    "if var1%2:\n",
    "    print('Odd')\n",
    "else:\n",
    "    print('Even')"
   ]
  },
  {
   "cell_type": "markdown",
   "metadata": {},
   "source": [
    "* Logical Operators\n",
    "OR   or  (|)    -->  Condition that one or more variable are true\n",
    "AND  and (&)    -->  Condition that all variables have to to be true \n",
    "NOT  not (!)    -->  Reverse the value of a variable\n",
    "* Comparison\n",
    "Greater than >  -->  comparison\n",
    "Less Than <     -->  comparison\n",
    "Equal ==        -->  comparison"
   ]
  },
  {
   "cell_type": "code",
   "execution_count": 31,
   "metadata": {},
   "outputs": [
    {
     "data": {
      "text/plain": [
       "True"
      ]
     },
     "execution_count": 31,
     "metadata": {},
     "output_type": "execute_result"
    }
   ],
   "source": [
    "Promi=3 #(Rabbit needs three or more carrots to eat)\n",
    "Mithu=2\n",
    "Matteo=1\n",
    "Nikos=3\n",
    "Vedant=3\n",
    "\n",
    "#First condition Vedant and Nikos are there to feed Promi\n",
    "Promi_happy=Nikos or Vedant\n",
    "\n",
    "#Second condition Matteo and Mithu are there to feed Promi\n",
    "Promi_happy= Matteo and Mithu\n",
    "\n",
    "var1=3 #assignment\n",
    "var1 == 3 # comparison\n",
    "\n"
   ]
  },
  {
   "cell_type": "markdown",
   "metadata": {},
   "source": [
    "# Conditional\n",
    "A check of a condition and then decide what to do if condition is true and what to do if condition is false\n",
    "\n",
    "In python only conditional available is if\n",
    "\n",
    "Syntax:\n",
    "if (<condition>):\n",
    "    <do something>\n",
    "else:\n",
    "    <do other thing>"
   ]
  },
  {
   "cell_type": "markdown",
   "metadata": {},
   "source": [
    "# Date 05.09.2020\n",
    "\n",
    "# Conditional\n",
    "A check of a condition and then decide what to do if condition is true and what to do if condition is false\n",
    "\n",
    "In python only conditional available is if:\n",
    "\n",
    "condition==True --> condition=1 or TRUE\n",
    "\n",
    "a=1\n",
    "b=1\n",
    "a|b --> TRUE -->1\n",
    "\n",
    "\n",
    "<\n",
    "Syntax:\n",
    "if (<condition>):\n",
    "    <do something>\n",
    "elif:\n",
    "    <do other thing>\n",
    "elif:\n",
    "        ....\n",
    "else:\n",
    "        >\n",
    "        \n"
   ]
  },
  {
   "cell_type": "code",
   "execution_count": 15,
   "metadata": {},
   "outputs": [
    {
     "name": "stdout",
     "output_type": "stream",
     "text": [
      "I am Groot\n"
     ]
    }
   ],
   "source": [
    "b=5\n",
    "c=8\n",
    "d=6\n",
    "e=4\n",
    "if c>b or e>d:\n",
    "    print('I am Groot')\n",
    "else:\n",
    "    print('I AM GROOT')"
   ]
  },
  {
   "cell_type": "markdown",
   "metadata": {},
   "source": [
    "## Loop\n",
    "Loop is used when some operations are to be done multiple times\n",
    "\n",
    "### For loop syntax\n",
    "Syntax:\n",
    "for <loop iterator variable> in <list>:\n",
    "    do something for length of list times\n",
    "    \n",
    "    \n",
    "example:\n",
    "for i in [1,2,3]:\n",
    "    print(i)\n",
    "    \n",
    "* Concept1: this loop will iterate 3 times (len([1,2,3])\n",
    "* Concept2: variable i will take value of elements in the list\n",
    "* Subconcept: do not re-use the iterator variable\n",
    "    \n",
    "Use break to stop the loop\n",
    "    \n",
    "### While Loop Syntax\n",
    "you use while loop if you dont know the number of iterartion upfront, but know only a condition    \n",
    "Syntax:\n",
    "while (<condition>):\n",
    "    do som ething untill condition is true"
   ]
  },
  {
   "cell_type": "code",
   "execution_count": 16,
   "metadata": {},
   "outputs": [
    {
     "name": "stdout",
     "output_type": "stream",
     "text": [
      "1\n",
      "2\n",
      "3\n"
     ]
    }
   ],
   "source": [
    "\n",
    "for i in [1,2,3]:\n",
    "    print(i) \n",
    "    \n"
   ]
  },
  {
   "cell_type": "code",
   "execution_count": 22,
   "metadata": {},
   "outputs": [
    {
     "name": "stdout",
     "output_type": "stream",
     "text": [
      "p\n",
      "p\n",
      "p\n",
      "p\n",
      "p\n",
      "p\n",
      "p\n",
      "p\n",
      "p\n",
      "9\n",
      "i\n"
     ]
    }
   ],
   "source": [
    "a='p'\n",
    "count=0\n",
    "\n",
    "for i in 'pepperoni':\n",
    "    count +=1\n",
    "    print(a)\n",
    "print(count)\n",
    "print(i)   "
   ]
  },
  {
   "cell_type": "code",
   "execution_count": 35,
   "metadata": {},
   "outputs": [
    {
     "name": "stdout",
     "output_type": "stream",
     "text": [
      "[10, 9, 8, 7, 6, 5, 4, 3, 2, 1]\n"
     ]
    }
   ],
   "source": [
    "print([i for i in range(10,0,-1)])"
   ]
  },
  {
   "cell_type": "code",
   "execution_count": 46,
   "metadata": {
    "scrolled": true
   },
   "outputs": [
    {
     "name": "stdout",
     "output_type": "stream",
     "text": [
      "10 bottles of beer on the wall\n",
      "1 fell off\n",
      "9 bottles of beer on the wall\n",
      "1 fell off\n",
      "8 bottles of beer on the wall\n",
      "1 fell off\n",
      "7 bottles of beer on the wall\n",
      "1 fell off\n",
      "6 bottles of beer on the wall\n",
      "1 fell off\n",
      "5 bottles of beer on the wall\n",
      "1 fell off\n",
      "4 bottles of beer on the wall\n",
      "1 fell off\n",
      "3 bottles of beer on the wall\n",
      "1 fell off\n",
      "2 bottles of beer on the wall\n",
      "1 fell off\n",
      "1 bottle of beer on the wall\n",
      "1 fell off\n",
      "0 bottle of beer on the wall\n",
      "No more bottle left on the wall\n"
     ]
    }
   ],
   "source": [
    "#Beer on the wall Poem\n",
    "num=10\n",
    "a='bottles of beer on the wall'\n",
    "aa='bottle of beer on the wall'\n",
    "b='1 fell off'\n",
    "c='now',num,'beer on the wall'\n",
    "\n",
    "'''10 bottles of beer on the wall\n",
    "1 fell off\n",
    "9 bottles of beer on the wall\n",
    "\n",
    "'''\n",
    "for i in range(num,-1,-1):\n",
    "    if(i>1):\n",
    "        print(i, a)\n",
    "    else:\n",
    "        print(i, aa)\n",
    "   \n",
    "    if i>0:\n",
    "        print(b)\n",
    "    #else:\n",
    "    #    break\n",
    "    \n",
    "print('No more bottle left on the wall')"
   ]
  },
  {
   "cell_type": "code",
   "execution_count": 1,
   "metadata": {},
   "outputs": [
    {
     "name": "stdout",
     "output_type": "stream",
     "text": [
      "Gimme dough!try me\n",
      "try me\n"
     ]
    }
   ],
   "source": [
    "#While loop example\n",
    "a=input('Gimme dough!')\n",
    "while (len(a)):\n",
    "    print(a)\n",
    "    a=''"
   ]
  },
  {
   "cell_type": "code",
   "execution_count": 22,
   "metadata": {},
   "outputs": [
    {
     "name": "stdout",
     "output_type": "stream",
     "text": [
      "Gib ein Wort ein:  Fruit\n",
      "gib ein Buchstaben ein:F\n",
      "Fruit has  F 1 times\n"
     ]
    }
   ],
   "source": [
    "a=input('Gib ein Wort ein:  ')\n",
    "count=0\n",
    "#while len(a)> 0:\n",
    "e=input('gib ein Buchstaben ein:')\n",
    "if len(e)==1:\n",
    "  for i in  a:\n",
    "    if e.lower()==i.lower():\n",
    "       count+=1\n",
    "        #elif e==('exit'):\n",
    "        #    break\n",
    "        #else:\n",
    "        #    print('gebe nur einen Buchstaben')\n",
    "print (a ,'has ',e,count , 'times')"
   ]
  },
  {
   "cell_type": "code",
   "execution_count": null,
   "metadata": {},
   "outputs": [],
   "source": []
  }
 ],
 "metadata": {
  "kernelspec": {
   "display_name": "Python 3",
   "language": "python",
   "name": "python3"
  },
  "language_info": {
   "codemirror_mode": {
    "name": "ipython",
    "version": 3
   },
   "file_extension": ".py",
   "mimetype": "text/x-python",
   "name": "python",
   "nbconvert_exporter": "python",
   "pygments_lexer": "ipython3",
   "version": "3.7.6"
  }
 },
 "nbformat": 4,
 "nbformat_minor": 4
}
