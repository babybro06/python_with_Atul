{
 "cells": [
  {
   "cell_type": "markdown",
   "metadata": {},
   "source": [
    "# Functions (13.09.2020)"
   ]
  },
  {
   "cell_type": "markdown",
   "metadata": {},
   "source": [
    "* Traffic Sign Detector (Vision Processing with Machine Learning) --> Ranvijay Singh Tomar + 2\n",
    "* \n"
   ]
  },
  {
   "cell_type": "markdown",
   "metadata": {},
   "source": [
    "--> understand its sorrounding  --> sensors,cameras etc to make sense of environment\n",
    "--> take decisions  --> dynamic path planning given a map,take decisions based on traffic situation \n",
    "--> measure the effect of decision (accuracy)\n",
    "--> Repeat"
   ]
  },
  {
   "cell_type": "markdown",
   "metadata": {},
   "source": [
    "## Review\n",
    "1. variables (are placeholders and can be assigned values, type of value doesnt has to be defined upfront, string or rational numbers)\n",
    "2. Print and comments --> print is very useful to debugging your program, use comments as you wont remember your code after 1 days\n",
    "3. data types --> string int float list dictionary tuples set\n",
    "4. operations --> +:-:/:*:% (arithmetic) >:<:==:or:and:not (Logical)\n",
    "5. conditional --> if <condition>: when condition is true do one set of operation else do other set of operation\n",
    "6. Loop  --> repeating set of operations (need to define how many times repeat shall heppen)\n",
    "       A: for <iterator variable> in <list>: do something --> when the number of iteration is deterministic\n",
    "       B: while <condition>: do something  --> --> when you dont know number of iterations upfront\n",
    "       C: break --> statement can be used to get out of loop before completing the planned number of iterations\n",
    "\n",
    "    "
   ]
  },
  {
   "cell_type": "markdown",
   "metadata": {},
   "source": [
    "# Functions --> \n",
    "When do you use function: Dont need to repeat piece of code over and over again\n",
    "Walk:\n",
    "Stamp: \n",
    "Sleep:\n",
    "\n",
    "\n",
    "Eat --> Take an eatable object--> placing it in your mouth --> chew or gulp --> Swallow\n",
    "\n",
    "Function is a template for set of actions, which process given data and avoid repeatable code --> they make code concise (succint)\n",
    "\n",
    "Eat Rice --> Take spoonful of  Rice --> placing it in your mouth --> chew --> Swallow\n",
    "Eat Tea  --> Take tea in a cup --> place it in mouth --> gulp --> Swallow\n",
    "\n",
    " "
   ]
  },
  {
   "cell_type": "markdown",
   "metadata": {},
   "source": [
    "* syntax example\n",
    "Function mechanism has 2 parts\n",
    "1. defintion of function (template)\n",
    "def <function name> (<arguements>):\n",
    "    <steps for the function>\n",
    "    <optional return>\n",
    "2. call/execute the function\n",
    "<function name>(<arguements>)\n",
    "    \n",
    "A) can have any number of arguements\n",
    "B) Number of Arguements between function definition and function call has to be same, may be changed by using args with * and ** (key word args, kwargs)\n",
    "C) Argument assignment is by position (by default) , can be change to by name\n",
    "D) the function may or may not return a value\n",
    "E)\n",
    "    "
   ]
  },
  {
   "cell_type": "code",
   "execution_count": 4,
   "metadata": {},
   "outputs": [
    {
     "name": "stdout",
     "output_type": "stream",
     "text": [
      "Vedant\n",
      "Mithu\n",
      "Pranav\n",
      "Nikos\n"
     ]
    }
   ],
   "source": [
    "#function to print provided name\n",
    "# signature of the functions (name)\n",
    "def nameprinter(name):\n",
    "    print(name)\n",
    "\n",
    "nameprinter('Vedant')\n",
    "nameprinter('Mithu')\n",
    "nameprinter('Pranav')\n",
    "nameprinter('Nikos')\n"
   ]
  },
  {
   "cell_type": "code",
   "execution_count": 9,
   "metadata": {},
   "outputs": [
    {
     "name": "stdout",
     "output_type": "stream",
     "text": [
      "Mike and Tom are Buddies\n",
      "Tom and Mike are Buddies\n"
     ]
    }
   ],
   "source": [
    "def friends(name1,name2):\n",
    "    print(name1,'and',name2,'are Buddies')\n",
    "friends('Mike','Tom')\n",
    "friends('Tom','Mike')"
   ]
  },
  {
   "cell_type": "code",
   "execution_count": 10,
   "metadata": {},
   "outputs": [
    {
     "name": "stdout",
     "output_type": "stream",
     "text": [
      "Tom and Mike are Buddies\n"
     ]
    }
   ],
   "source": [
    "# It is possible to assign arguments by name\n",
    "friends(name2='Mike',name1='Tom')\n"
   ]
  },
  {
   "cell_type": "code",
   "execution_count": 15,
   "metadata": {},
   "outputs": [
    {
     "name": "stdout",
     "output_type": "stream",
     "text": [
      "I have  6 friends\n",
      "Their names are: Tom,Mike,Jose,Juan,Bernd,IronMan,\n"
     ]
    }
   ],
   "source": [
    "#when you dont know how many arguments you need, large number of arguements\n",
    "def friends(*name):  #name here is a list\n",
    "    print('I have ',len(name),'friends')\n",
    "    print('Their names are: ',end='')\n",
    "    for i in name:\n",
    "        print(i,end=',')\n",
    "        \n",
    "    print()\n",
    "    \n",
    "friends('Tom','Mike','Jose','Juan','Bernd','IronMan')"
   ]
  },
  {
   "cell_type": "code",
   "execution_count": 26,
   "metadata": {},
   "outputs": [
    {
     "name": "stdout",
     "output_type": "stream",
     "text": [
      "Address is:  \n",
      " Pennsylvania Avenue 1600,\n",
      "20500 Washington DC\n"
     ]
    }
   ],
   "source": [
    "#Return value\n",
    "def address(street,house,zipcode,city):\n",
    "    ret_add=street+' '+house+','+'\\n'+zipcode+' '+city  #notice use of add to add strings\n",
    "    return ret_add\n",
    "add=address('Pennsylvania Avenue','1600','20500','Washington DC')\n",
    "print('Address is:','\\n',add)"
   ]
  },
  {
   "cell_type": "markdown",
   "metadata": {},
   "source": [
    "1.How is an image stored on a computer? --> image is stored as a matrix\n",
    "2.What is a matrix --> Arrangement of data in rows and column format, total number fo data stored (row*column)\n",
    "3.how many primary colors are used in computer programming --> RGB\n",
    "4.how many color combinations are possible in computer programming --> 256*256*256=16,777,216"
   ]
  }
 ],
 "metadata": {
  "kernelspec": {
   "display_name": "Python 3",
   "language": "python",
   "name": "python3"
  },
  "language_info": {
   "codemirror_mode": {
    "name": "ipython",
    "version": 3
   },
   "file_extension": ".py",
   "mimetype": "text/x-python",
   "name": "python",
   "nbconvert_exporter": "python",
   "pygments_lexer": "ipython3",
   "version": "3.7.6"
  }
 },
 "nbformat": 4,
 "nbformat_minor": 4
}
