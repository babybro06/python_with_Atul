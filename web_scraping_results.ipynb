{
 "cells": [
  {
   "cell_type": "markdown",
   "metadata": {},
   "source": [
    "# webscraping for rseults of a google search\n",
    "\n"
   ]
  },
  {
   "cell_type": "code",
   "execution_count": 20,
   "metadata": {},
   "outputs": [
    {
     "name": "stdout",
     "output_type": "stream",
     "text": [
      "200\n",
      "the number of results is  Ungefähr 1.550.000 Ergebnisse  in  0,25 Sekunden\n"
     ]
    }
   ],
   "source": [
    "import random\n",
    "import requests\n",
    "from bs4 import BeautifulSoup\n",
    "url='https://www.google.com/search?q=vedant+pandey&rlz=1C1ONGR_deDE929DE929&oq=vedant+pandey&aqs=chrome..69i57.4921j0j1&sourceid=chrome&ie=UTF-8'\n",
    "\n",
    "A = (\"Mozilla/5.0 (Windows NT 6.1) AppleWebKit/537.36 (KHTML, like Gecko) Chrome/41.0.2228.0 Safari/537.36\",\n",
    "       \"Mozilla/5.0 (Macintosh; Intel Mac OS X 10_10_1) AppleWebKit/537.36 (KHTML, like Gecko) Chrome/41.0.2227.1 Safari/537.36\",\n",
    "       \"Mozilla/5.0 (Windows NT 6.1; WOW64) AppleWebKit/537.36 (KHTML, like Gecko) Chrome/41.0.2227.0 Safari/537.36\",\n",
    "       )\n",
    " \n",
    "Agent = A[random.randrange(len(A))]\n",
    " \n",
    "headers = {'user-agent': Agent}\n",
    "page = requests.get(url, headers=headers)\n",
    "\n",
    "\n",
    "\n",
    "print(page.status_code)\n",
    "soup=BeautifulSoup(page.content,'lxml')\n",
    "main_tag=soup.find(id='main')\n",
    "\n",
    "\n",
    "results = main_tag.find(id='result-stats').get_text()\n",
    "\n",
    "result1= results[0:30]\n",
    "result2 = results[-15:-2]\n",
    "\n",
    "print('the number of results is ', result1,'in ', result2)\n"
   ]
  },
  {
   "cell_type": "code",
   "execution_count": 23,
   "metadata": {},
   "outputs": [
    {
     "name": "stdout",
     "output_type": "stream",
     "text": [
      "Number of results:  Ungefähr 1.550.000 Ergebnisse \n",
      "Time taken:  0,25 Sekunden\n"
     ]
    }
   ],
   "source": [
    "res_split=results.split('(')\n",
    "print('Number of results: ',res_split[0])\n",
    "print('Time taken: ', res_split[1][:-2])"
   ]
  }
 ],
 "metadata": {
  "kernelspec": {
   "display_name": "Python 3",
   "language": "python",
   "name": "python3"
  },
  "language_info": {
   "codemirror_mode": {
    "name": "ipython",
    "version": 3
   },
   "file_extension": ".py",
   "mimetype": "text/x-python",
   "name": "python",
   "nbconvert_exporter": "python",
   "pygments_lexer": "ipython3",
   "version": "3.8.5"
  }
 },
 "nbformat": 4,
 "nbformat_minor": 4
}
